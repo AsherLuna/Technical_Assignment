{
 "cells": [
  {
   "cell_type": "code",
   "execution_count": 1,
   "id": "32f07240-8807-4d9c-8176-2d0a23bbb23b",
   "metadata": {},
   "outputs": [
    {
     "name": "stdout",
     "output_type": "stream",
     "text": [
      "File 'non_existent_emails.csv' created successfully with 24 records.\n"
     ]
    }
   ],
   "source": [
    "import pandas as pd\n",
    "import os\n",
    "\n",
    "# Load the CSV file into a DataFrame\n",
    "# The 'sep=\";\"' parameter specifies that columns are separated by semicolons\n",
    "try:\n",
    "    df = pd.read_csv(\"deliveries.csv\", sep=\";\")\n",
    "except FileNotFoundError:\n",
    "    raise FileNotFoundError(\"The file 'deliveries.csv' was not found in the working directory.\")\n",
    "except Exception as e:\n",
    "    raise RuntimeError(f\"Error while reading the CSV file: {e}\")\n",
    "\n",
    "# Filter rows where the 'failure_message' column contains the text \"does not exist\"\n",
    "# - case=False makes the search case-insensitive\n",
    "# - na=False ignores NaN values instead of raising an error\n",
    "non_existent_emails = df[df['failure_message'].str.contains(\"does not exist\", case=False, na=False)]\n",
    "\n",
    "# Select only the 'email' column from the filtered rows\n",
    "cleaned_emails = non_existent_emails[['email']]\n",
    "\n",
    "# Export the cleaned email list to a new CSV file without the index column\n",
    "output_file = \"non_existent_emails.csv\"\n",
    "cleaned_emails.to_csv(output_file, index=False)\n",
    "\n",
    "# Confirm file creation if successful\n",
    "if os.path.exists(output_file):\n",
    "    print(f\"File '{output_file}' created successfully with {len(cleaned_emails)} records.\")\n",
    "else:\n",
    "    print(\"Error: Output file was not created.\")"
   ]
  },
  {
   "cell_type": "code",
   "execution_count": null,
   "id": "37bbebfe-6803-45e5-88db-db551a16971c",
   "metadata": {},
   "outputs": [],
   "source": []
  }
 ],
 "metadata": {
  "kernelspec": {
   "display_name": "Python 3 (ipykernel)",
   "language": "python",
   "name": "python3"
  },
  "language_info": {
   "codemirror_mode": {
    "name": "ipython",
    "version": 3
   },
   "file_extension": ".py",
   "mimetype": "text/x-python",
   "name": "python",
   "nbconvert_exporter": "python",
   "pygments_lexer": "ipython3",
   "version": "3.13.5"
  }
 },
 "nbformat": 4,
 "nbformat_minor": 5
}
